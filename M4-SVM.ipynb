{
 "cells": [
  {
   "cell_type": "markdown",
   "id": "f23cd813",
   "metadata": {},
   "source": [
    "# SVC"
   ]
  },
  {
   "cell_type": "code",
   "execution_count": 1,
   "id": "c7ac72fa",
   "metadata": {},
   "outputs": [
    {
     "name": "stderr",
     "output_type": "stream",
     "text": [
      "C:\\Users\\SPIRO-JAVA NEW\\AppData\\Local\\Temp\\ipykernel_288\\555797462.py:1: DeprecationWarning: \n",
      "Pyarrow will become a required dependency of pandas in the next major release of pandas (pandas 3.0),\n",
      "(to allow more performant data types, such as the Arrow string type, and better interoperability with other libraries)\n",
      "but was not found to be installed on your system.\n",
      "If this would cause problems for you,\n",
      "please provide us feedback at https://github.com/pandas-dev/pandas/issues/54466\n",
      "        \n",
      "  import pandas as pd\n"
     ]
    }
   ],
   "source": [
    "import pandas as pd\n",
    "import numpy as np\n",
    "import matplotlib.pyplot as plt\n",
    "import seaborn as sns"
   ]
  },
  {
   "cell_type": "code",
   "execution_count": 2,
   "id": "9d6b05a2",
   "metadata": {},
   "outputs": [],
   "source": [
    "import warnings\n",
    "warnings.filterwarnings('ignore')"
   ]
  },
  {
   "cell_type": "code",
   "execution_count": 3,
   "id": "efecb829",
   "metadata": {},
   "outputs": [
    {
     "data": {
      "text/html": [
       "<div>\n",
       "<style scoped>\n",
       "    .dataframe tbody tr th:only-of-type {\n",
       "        vertical-align: middle;\n",
       "    }\n",
       "\n",
       "    .dataframe tbody tr th {\n",
       "        vertical-align: top;\n",
       "    }\n",
       "\n",
       "    .dataframe thead th {\n",
       "        text-align: right;\n",
       "    }\n",
       "</style>\n",
       "<table border=\"1\" class=\"dataframe\">\n",
       "  <thead>\n",
       "    <tr style=\"text-align: right;\">\n",
       "      <th></th>\n",
       "      <th>outcome</th>\n",
       "      <th>age</th>\n",
       "      <th>gendera</th>\n",
       "      <th>BMI</th>\n",
       "      <th>hypertensive</th>\n",
       "      <th>diabetes</th>\n",
       "      <th>depression</th>\n",
       "      <th>heart rate</th>\n",
       "      <th>Systolic blood pressure</th>\n",
       "      <th>Diastolic blood pressure</th>\n",
       "      <th>...</th>\n",
       "      <th>Urea nitrogen</th>\n",
       "      <th>glucose</th>\n",
       "      <th>Blood potassium</th>\n",
       "      <th>Blood sodium</th>\n",
       "      <th>Blood calcium</th>\n",
       "      <th>Chloride</th>\n",
       "      <th>Magnesium ion</th>\n",
       "      <th>PH</th>\n",
       "      <th>Lactic acid</th>\n",
       "      <th>PCO2</th>\n",
       "    </tr>\n",
       "  </thead>\n",
       "  <tbody>\n",
       "    <tr>\n",
       "      <th>0</th>\n",
       "      <td>2.0</td>\n",
       "      <td>72.0</td>\n",
       "      <td>1.0</td>\n",
       "      <td>37.588179</td>\n",
       "      <td>0.0</td>\n",
       "      <td>1.0</td>\n",
       "      <td>0.0</td>\n",
       "      <td>68.837838</td>\n",
       "      <td>155.866667</td>\n",
       "      <td>68.333333</td>\n",
       "      <td>...</td>\n",
       "      <td>50.000000</td>\n",
       "      <td>114.636364</td>\n",
       "      <td>4.816667</td>\n",
       "      <td>138.750000</td>\n",
       "      <td>7.463636</td>\n",
       "      <td>109.166667</td>\n",
       "      <td>2.618182</td>\n",
       "      <td>7.230</td>\n",
       "      <td>0.5</td>\n",
       "      <td>40.0</td>\n",
       "    </tr>\n",
       "    <tr>\n",
       "      <th>1</th>\n",
       "      <td>2.0</td>\n",
       "      <td>75.0</td>\n",
       "      <td>2.0</td>\n",
       "      <td>NaN</td>\n",
       "      <td>0.0</td>\n",
       "      <td>0.0</td>\n",
       "      <td>0.0</td>\n",
       "      <td>101.370370</td>\n",
       "      <td>140.000000</td>\n",
       "      <td>65.000000</td>\n",
       "      <td>...</td>\n",
       "      <td>20.333333</td>\n",
       "      <td>147.500000</td>\n",
       "      <td>4.450000</td>\n",
       "      <td>138.888889</td>\n",
       "      <td>8.162500</td>\n",
       "      <td>98.444444</td>\n",
       "      <td>1.887500</td>\n",
       "      <td>7.225</td>\n",
       "      <td>0.5</td>\n",
       "      <td>78.0</td>\n",
       "    </tr>\n",
       "    <tr>\n",
       "      <th>2</th>\n",
       "      <td>2.0</td>\n",
       "      <td>83.0</td>\n",
       "      <td>2.0</td>\n",
       "      <td>26.572634</td>\n",
       "      <td>0.0</td>\n",
       "      <td>0.0</td>\n",
       "      <td>0.0</td>\n",
       "      <td>72.318182</td>\n",
       "      <td>135.333333</td>\n",
       "      <td>61.375000</td>\n",
       "      <td>...</td>\n",
       "      <td>33.857143</td>\n",
       "      <td>149.000000</td>\n",
       "      <td>5.825000</td>\n",
       "      <td>140.714286</td>\n",
       "      <td>8.266667</td>\n",
       "      <td>105.857143</td>\n",
       "      <td>2.157143</td>\n",
       "      <td>7.268</td>\n",
       "      <td>0.5</td>\n",
       "      <td>71.5</td>\n",
       "    </tr>\n",
       "    <tr>\n",
       "      <th>3</th>\n",
       "      <td>2.0</td>\n",
       "      <td>43.0</td>\n",
       "      <td>2.0</td>\n",
       "      <td>83.264629</td>\n",
       "      <td>0.0</td>\n",
       "      <td>0.0</td>\n",
       "      <td>0.0</td>\n",
       "      <td>94.500000</td>\n",
       "      <td>126.400000</td>\n",
       "      <td>73.200000</td>\n",
       "      <td>...</td>\n",
       "      <td>15.285714</td>\n",
       "      <td>128.250000</td>\n",
       "      <td>4.386667</td>\n",
       "      <td>138.500000</td>\n",
       "      <td>9.476923</td>\n",
       "      <td>92.071429</td>\n",
       "      <td>1.942857</td>\n",
       "      <td>7.370</td>\n",
       "      <td>0.6</td>\n",
       "      <td>75.0</td>\n",
       "    </tr>\n",
       "    <tr>\n",
       "      <th>4</th>\n",
       "      <td>2.0</td>\n",
       "      <td>75.0</td>\n",
       "      <td>2.0</td>\n",
       "      <td>31.824842</td>\n",
       "      <td>1.0</td>\n",
       "      <td>0.0</td>\n",
       "      <td>0.0</td>\n",
       "      <td>67.920000</td>\n",
       "      <td>156.560000</td>\n",
       "      <td>58.120000</td>\n",
       "      <td>...</td>\n",
       "      <td>43.000000</td>\n",
       "      <td>145.750000</td>\n",
       "      <td>4.783333</td>\n",
       "      <td>136.666667</td>\n",
       "      <td>8.733333</td>\n",
       "      <td>104.500000</td>\n",
       "      <td>1.650000</td>\n",
       "      <td>7.250</td>\n",
       "      <td>0.6</td>\n",
       "      <td>50.0</td>\n",
       "    </tr>\n",
       "  </tbody>\n",
       "</table>\n",
       "<p>5 rows × 30 columns</p>\n",
       "</div>"
      ],
      "text/plain": [
       "   outcome   age  gendera        BMI  hypertensive  diabetes  depression  \\\n",
       "0      2.0  72.0      1.0  37.588179           0.0       1.0         0.0   \n",
       "1      2.0  75.0      2.0        NaN           0.0       0.0         0.0   \n",
       "2      2.0  83.0      2.0  26.572634           0.0       0.0         0.0   \n",
       "3      2.0  43.0      2.0  83.264629           0.0       0.0         0.0   \n",
       "4      2.0  75.0      2.0  31.824842           1.0       0.0         0.0   \n",
       "\n",
       "   heart rate  Systolic blood pressure  Diastolic blood pressure  ...  \\\n",
       "0   68.837838               155.866667                 68.333333  ...   \n",
       "1  101.370370               140.000000                 65.000000  ...   \n",
       "2   72.318182               135.333333                 61.375000  ...   \n",
       "3   94.500000               126.400000                 73.200000  ...   \n",
       "4   67.920000               156.560000                 58.120000  ...   \n",
       "\n",
       "   Urea nitrogen     glucose  Blood potassium  Blood sodium  Blood calcium  \\\n",
       "0      50.000000  114.636364         4.816667    138.750000       7.463636   \n",
       "1      20.333333  147.500000         4.450000    138.888889       8.162500   \n",
       "2      33.857143  149.000000         5.825000    140.714286       8.266667   \n",
       "3      15.285714  128.250000         4.386667    138.500000       9.476923   \n",
       "4      43.000000  145.750000         4.783333    136.666667       8.733333   \n",
       "\n",
       "     Chloride  Magnesium ion     PH  Lactic acid  PCO2  \n",
       "0  109.166667       2.618182  7.230          0.5  40.0  \n",
       "1   98.444444       1.887500  7.225          0.5  78.0  \n",
       "2  105.857143       2.157143  7.268          0.5  71.5  \n",
       "3   92.071429       1.942857  7.370          0.6  75.0  \n",
       "4  104.500000       1.650000  7.250          0.6  50.0  \n",
       "\n",
       "[5 rows x 30 columns]"
      ]
     },
     "execution_count": 3,
     "metadata": {},
     "output_type": "execute_result"
    }
   ],
   "source": [
    "df = pd.read_csv('risk.csv')\n",
    "\n",
    "\n",
    "df.head()"
   ]
  },
  {
   "cell_type": "code",
   "execution_count": 4,
   "id": "504664d2",
   "metadata": {},
   "outputs": [
    {
     "data": {
      "text/html": [
       "<div>\n",
       "<style scoped>\n",
       "    .dataframe tbody tr th:only-of-type {\n",
       "        vertical-align: middle;\n",
       "    }\n",
       "\n",
       "    .dataframe tbody tr th {\n",
       "        vertical-align: top;\n",
       "    }\n",
       "\n",
       "    .dataframe thead th {\n",
       "        text-align: right;\n",
       "    }\n",
       "</style>\n",
       "<table border=\"1\" class=\"dataframe\">\n",
       "  <thead>\n",
       "    <tr style=\"text-align: right;\">\n",
       "      <th></th>\n",
       "      <th>outcome</th>\n",
       "      <th>age</th>\n",
       "      <th>gendera</th>\n",
       "      <th>BMI</th>\n",
       "      <th>hypertensive</th>\n",
       "      <th>diabetes</th>\n",
       "      <th>depression</th>\n",
       "      <th>heart rate</th>\n",
       "      <th>Systolic blood pressure</th>\n",
       "      <th>Diastolic blood pressure</th>\n",
       "      <th>...</th>\n",
       "      <th>Urea nitrogen</th>\n",
       "      <th>glucose</th>\n",
       "      <th>Blood potassium</th>\n",
       "      <th>Blood sodium</th>\n",
       "      <th>Blood calcium</th>\n",
       "      <th>Chloride</th>\n",
       "      <th>Magnesium ion</th>\n",
       "      <th>PH</th>\n",
       "      <th>Lactic acid</th>\n",
       "      <th>PCO2</th>\n",
       "    </tr>\n",
       "  </thead>\n",
       "  <tbody>\n",
       "    <tr>\n",
       "      <th>0</th>\n",
       "      <td>2.0</td>\n",
       "      <td>72.0</td>\n",
       "      <td>1.0</td>\n",
       "      <td>37.588179</td>\n",
       "      <td>0.0</td>\n",
       "      <td>1.0</td>\n",
       "      <td>0.0</td>\n",
       "      <td>68.837838</td>\n",
       "      <td>155.866667</td>\n",
       "      <td>68.333333</td>\n",
       "      <td>...</td>\n",
       "      <td>50.000000</td>\n",
       "      <td>114.636364</td>\n",
       "      <td>4.816667</td>\n",
       "      <td>138.750000</td>\n",
       "      <td>7.463636</td>\n",
       "      <td>109.166667</td>\n",
       "      <td>2.618182</td>\n",
       "      <td>7.230</td>\n",
       "      <td>0.5</td>\n",
       "      <td>40.0</td>\n",
       "    </tr>\n",
       "    <tr>\n",
       "      <th>1</th>\n",
       "      <td>2.0</td>\n",
       "      <td>75.0</td>\n",
       "      <td>2.0</td>\n",
       "      <td>NaN</td>\n",
       "      <td>0.0</td>\n",
       "      <td>0.0</td>\n",
       "      <td>0.0</td>\n",
       "      <td>101.370370</td>\n",
       "      <td>140.000000</td>\n",
       "      <td>65.000000</td>\n",
       "      <td>...</td>\n",
       "      <td>20.333333</td>\n",
       "      <td>147.500000</td>\n",
       "      <td>4.450000</td>\n",
       "      <td>138.888889</td>\n",
       "      <td>8.162500</td>\n",
       "      <td>98.444444</td>\n",
       "      <td>1.887500</td>\n",
       "      <td>7.225</td>\n",
       "      <td>0.5</td>\n",
       "      <td>78.0</td>\n",
       "    </tr>\n",
       "    <tr>\n",
       "      <th>2</th>\n",
       "      <td>2.0</td>\n",
       "      <td>83.0</td>\n",
       "      <td>2.0</td>\n",
       "      <td>26.572634</td>\n",
       "      <td>0.0</td>\n",
       "      <td>0.0</td>\n",
       "      <td>0.0</td>\n",
       "      <td>72.318182</td>\n",
       "      <td>135.333333</td>\n",
       "      <td>61.375000</td>\n",
       "      <td>...</td>\n",
       "      <td>33.857143</td>\n",
       "      <td>149.000000</td>\n",
       "      <td>5.825000</td>\n",
       "      <td>140.714286</td>\n",
       "      <td>8.266667</td>\n",
       "      <td>105.857143</td>\n",
       "      <td>2.157143</td>\n",
       "      <td>7.268</td>\n",
       "      <td>0.5</td>\n",
       "      <td>71.5</td>\n",
       "    </tr>\n",
       "    <tr>\n",
       "      <th>3</th>\n",
       "      <td>2.0</td>\n",
       "      <td>43.0</td>\n",
       "      <td>2.0</td>\n",
       "      <td>83.264629</td>\n",
       "      <td>0.0</td>\n",
       "      <td>0.0</td>\n",
       "      <td>0.0</td>\n",
       "      <td>94.500000</td>\n",
       "      <td>126.400000</td>\n",
       "      <td>73.200000</td>\n",
       "      <td>...</td>\n",
       "      <td>15.285714</td>\n",
       "      <td>128.250000</td>\n",
       "      <td>4.386667</td>\n",
       "      <td>138.500000</td>\n",
       "      <td>9.476923</td>\n",
       "      <td>92.071429</td>\n",
       "      <td>1.942857</td>\n",
       "      <td>7.370</td>\n",
       "      <td>0.6</td>\n",
       "      <td>75.0</td>\n",
       "    </tr>\n",
       "    <tr>\n",
       "      <th>4</th>\n",
       "      <td>2.0</td>\n",
       "      <td>75.0</td>\n",
       "      <td>2.0</td>\n",
       "      <td>31.824842</td>\n",
       "      <td>1.0</td>\n",
       "      <td>0.0</td>\n",
       "      <td>0.0</td>\n",
       "      <td>67.920000</td>\n",
       "      <td>156.560000</td>\n",
       "      <td>58.120000</td>\n",
       "      <td>...</td>\n",
       "      <td>43.000000</td>\n",
       "      <td>145.750000</td>\n",
       "      <td>4.783333</td>\n",
       "      <td>136.666667</td>\n",
       "      <td>8.733333</td>\n",
       "      <td>104.500000</td>\n",
       "      <td>1.650000</td>\n",
       "      <td>7.250</td>\n",
       "      <td>0.6</td>\n",
       "      <td>50.0</td>\n",
       "    </tr>\n",
       "  </tbody>\n",
       "</table>\n",
       "<p>5 rows × 30 columns</p>\n",
       "</div>"
      ],
      "text/plain": [
       "   outcome   age  gendera        BMI  hypertensive  diabetes  depression  \\\n",
       "0      2.0  72.0      1.0  37.588179           0.0       1.0         0.0   \n",
       "1      2.0  75.0      2.0        NaN           0.0       0.0         0.0   \n",
       "2      2.0  83.0      2.0  26.572634           0.0       0.0         0.0   \n",
       "3      2.0  43.0      2.0  83.264629           0.0       0.0         0.0   \n",
       "4      2.0  75.0      2.0  31.824842           1.0       0.0         0.0   \n",
       "\n",
       "   heart rate  Systolic blood pressure  Diastolic blood pressure  ...  \\\n",
       "0   68.837838               155.866667                 68.333333  ...   \n",
       "1  101.370370               140.000000                 65.000000  ...   \n",
       "2   72.318182               135.333333                 61.375000  ...   \n",
       "3   94.500000               126.400000                 73.200000  ...   \n",
       "4   67.920000               156.560000                 58.120000  ...   \n",
       "\n",
       "   Urea nitrogen     glucose  Blood potassium  Blood sodium  Blood calcium  \\\n",
       "0      50.000000  114.636364         4.816667    138.750000       7.463636   \n",
       "1      20.333333  147.500000         4.450000    138.888889       8.162500   \n",
       "2      33.857143  149.000000         5.825000    140.714286       8.266667   \n",
       "3      15.285714  128.250000         4.386667    138.500000       9.476923   \n",
       "4      43.000000  145.750000         4.783333    136.666667       8.733333   \n",
       "\n",
       "     Chloride  Magnesium ion     PH  Lactic acid  PCO2  \n",
       "0  109.166667       2.618182  7.230          0.5  40.0  \n",
       "1   98.444444       1.887500  7.225          0.5  78.0  \n",
       "2  105.857143       2.157143  7.268          0.5  71.5  \n",
       "3   92.071429       1.942857  7.370          0.6  75.0  \n",
       "4  104.500000       1.650000  7.250          0.6  50.0  \n",
       "\n",
       "[5 rows x 30 columns]"
      ]
     },
     "execution_count": 4,
     "metadata": {},
     "output_type": "execute_result"
    }
   ],
   "source": [
    "df.head()"
   ]
  },
  {
   "cell_type": "code",
   "execution_count": 5,
   "id": "e1decdb1",
   "metadata": {},
   "outputs": [
    {
     "name": "stdout",
     "output_type": "stream",
     "text": [
      "<class 'pandas.core.frame.DataFrame'>\n",
      "RangeIndex: 1177 entries, 0 to 1176\n",
      "Data columns (total 30 columns):\n",
      " #   Column                    Non-Null Count  Dtype  \n",
      "---  ------                    --------------  -----  \n",
      " 0   outcome                   1176 non-null   float64\n",
      " 1   age                       1176 non-null   float64\n",
      " 2   gendera                   1176 non-null   float64\n",
      " 3   BMI                       962 non-null    float64\n",
      " 4   hypertensive              1176 non-null   float64\n",
      " 5   diabetes                  1176 non-null   float64\n",
      " 6   depression                1176 non-null   float64\n",
      " 7   heart rate                1164 non-null   float64\n",
      " 8   Systolic blood pressure   1161 non-null   float64\n",
      " 9   Diastolic blood pressure  1161 non-null   float64\n",
      " 10  Respiratory rate          1164 non-null   float64\n",
      " 11  temperature               1158 non-null   float64\n",
      " 12  SP O2                     1164 non-null   float64\n",
      " 13  Urine output              1141 non-null   float64\n",
      " 14  RBC                       1176 non-null   float64\n",
      " 15  MCH                       1176 non-null   float64\n",
      " 16  MCHC                      1176 non-null   float64\n",
      " 17  MCV                       1176 non-null   float64\n",
      " 18  RDW                       1176 non-null   float64\n",
      " 19  Creatinine                1176 non-null   float64\n",
      " 20  Urea nitrogen             1176 non-null   float64\n",
      " 21  glucose                   1159 non-null   float64\n",
      " 22  Blood potassium           1176 non-null   float64\n",
      " 23  Blood sodium              1176 non-null   float64\n",
      " 24  Blood calcium             1175 non-null   float64\n",
      " 25  Chloride                  1176 non-null   float64\n",
      " 26  Magnesium ion             1176 non-null   float64\n",
      " 27  PH                        885 non-null    float64\n",
      " 28  Lactic acid               948 non-null    float64\n",
      " 29  PCO2                      883 non-null    float64\n",
      "dtypes: float64(30)\n",
      "memory usage: 276.0 KB\n"
     ]
    }
   ],
   "source": [
    "df.info()"
   ]
  },
  {
   "cell_type": "code",
   "execution_count": 6,
   "id": "5e61619d",
   "metadata": {},
   "outputs": [
    {
     "name": "stdout",
     "output_type": "stream",
     "text": [
      "<class 'pandas.core.frame.DataFrame'>\n",
      "RangeIndex: 1177 entries, 0 to 1176\n",
      "Data columns (total 30 columns):\n",
      " #   Column                    Non-Null Count  Dtype  \n",
      "---  ------                    --------------  -----  \n",
      " 0   outcome                   1176 non-null   float64\n",
      " 1   age                       1176 non-null   float64\n",
      " 2   gendera                   1176 non-null   float64\n",
      " 3   BMI                       962 non-null    float64\n",
      " 4   hypertensive              1176 non-null   float64\n",
      " 5   diabetes                  1176 non-null   float64\n",
      " 6   depression                1176 non-null   float64\n",
      " 7   heart rate                1164 non-null   float64\n",
      " 8   Systolic blood pressure   1161 non-null   float64\n",
      " 9   Diastolic blood pressure  1161 non-null   float64\n",
      " 10  Respiratory rate          1164 non-null   float64\n",
      " 11  temperature               1158 non-null   float64\n",
      " 12  SP O2                     1164 non-null   float64\n",
      " 13  Urine output              1141 non-null   float64\n",
      " 14  RBC                       1176 non-null   float64\n",
      " 15  MCH                       1176 non-null   float64\n",
      " 16  MCHC                      1176 non-null   float64\n",
      " 17  MCV                       1176 non-null   float64\n",
      " 18  RDW                       1176 non-null   float64\n",
      " 19  Creatinine                1176 non-null   float64\n",
      " 20  Urea nitrogen             1176 non-null   float64\n",
      " 21  glucose                   1159 non-null   float64\n",
      " 22  Blood potassium           1176 non-null   float64\n",
      " 23  Blood sodium              1176 non-null   float64\n",
      " 24  Blood calcium             1175 non-null   float64\n",
      " 25  Chloride                  1176 non-null   float64\n",
      " 26  Magnesium ion             1176 non-null   float64\n",
      " 27  PH                        885 non-null    float64\n",
      " 28  Lactic acid               948 non-null    float64\n",
      " 29  PCO2                      883 non-null    float64\n",
      "dtypes: float64(30)\n",
      "memory usage: 276.0 KB\n"
     ]
    }
   ],
   "source": [
    "df.info()"
   ]
  },
  {
   "cell_type": "code",
   "execution_count": 7,
   "id": "d785e357",
   "metadata": {},
   "outputs": [],
   "source": [
    "df=df.dropna()"
   ]
  },
  {
   "cell_type": "code",
   "execution_count": 8,
   "id": "7a0f30c1",
   "metadata": {},
   "outputs": [
    {
     "data": {
      "text/plain": [
       "Index(['outcome', 'age', 'gendera', 'BMI', 'hypertensive', 'diabetes',\n",
       "       'depression', 'heart rate', 'Systolic blood pressure',\n",
       "       'Diastolic blood pressure', 'Respiratory rate', 'temperature', 'SP O2',\n",
       "       'Urine output', 'RBC', 'MCH', 'MCHC', 'MCV', 'RDW', 'Creatinine',\n",
       "       'Urea nitrogen', 'glucose', 'Blood potassium', 'Blood sodium',\n",
       "       'Blood calcium', 'Chloride', 'Magnesium ion', 'PH', 'Lactic acid',\n",
       "       'PCO2'],\n",
       "      dtype='object')"
      ]
     },
     "execution_count": 8,
     "metadata": {},
     "output_type": "execute_result"
    }
   ],
   "source": [
    "df.columns"
   ]
  },
  {
   "cell_type": "code",
   "execution_count": 9,
   "id": "45e25d1f",
   "metadata": {},
   "outputs": [],
   "source": [
    "df=df.drop_duplicates()"
   ]
  },
  {
   "cell_type": "code",
   "execution_count": 10,
   "id": "3f36a6e4",
   "metadata": {},
   "outputs": [],
   "source": [
    "x1 = df.drop(labels='outcome', axis=1)\n",
    "y1 = df.loc[:,'outcome']"
   ]
  },
  {
   "cell_type": "code",
   "execution_count": 11,
   "id": "1f62c6c3",
   "metadata": {},
   "outputs": [
    {
     "name": "stdout",
     "output_type": "stream",
     "text": [
      "OUR DATASET COUNT         :  Counter({0.0: 529, 1.0: 96, 2.0: 16})\n",
      "OVER SAMPLING DATA COUNT  :  Counter({2.0: 529, 0.0: 529, 1.0: 529})\n"
     ]
    }
   ],
   "source": [
    "# This process execute to balanced the datasets features.\n",
    "import imblearn\n",
    "from imblearn.over_sampling import RandomOverSampler\n",
    "from collections import Counter\n",
    "\n",
    "ros =RandomOverSampler(random_state=42)\n",
    "x,y=ros.fit_resample(x1,y1)\n",
    "print(\"OUR DATASET COUNT         : \", Counter(y1))\n",
    "print(\"OVER SAMPLING DATA COUNT  : \", Counter(y))"
   ]
  },
  {
   "cell_type": "code",
   "execution_count": 12,
   "id": "4bb6edac",
   "metadata": {},
   "outputs": [
    {
     "name": "stdout",
     "output_type": "stream",
     "text": [
      "NUMBER OF TRAIN DATASET    :  1269\n",
      "NUMBER OF TEST DATASET      :  318\n",
      "TOTAL NUMBER OF DATASET    :  1587\n"
     ]
    }
   ],
   "source": [
    "# Split the datasets into two parts like trainng and testing variable.\n",
    "from sklearn.model_selection import train_test_split\n",
    "x_train, x_test, y_train, y_test = train_test_split(x, y, test_size=0.20, random_state=42, stratify=y)\n",
    "print(\"NUMBER OF TRAIN DATASET    : \", len(x_train))\n",
    "print(\"NUMBER OF TEST DATASET      : \", len(x_test))\n",
    "print(\"TOTAL NUMBER OF DATASET    : \", len(x_train)+len(x_test))"
   ]
  },
  {
   "cell_type": "code",
   "execution_count": 13,
   "id": "cbb02177",
   "metadata": {},
   "outputs": [
    {
     "name": "stdout",
     "output_type": "stream",
     "text": [
      "NUMBER OF TRAIN DATASET    :  1269\n",
      "NUMBER OF TEST DATASET      :  318\n",
      "TOTAL NUMBER OF DATASET    :  1587\n"
     ]
    }
   ],
   "source": [
    "print(\"NUMBER OF TRAIN DATASET    : \", len(y_train))\n",
    "print(\"NUMBER OF TEST DATASET      : \", len(y_test))\n",
    "print(\"TOTAL NUMBER OF DATASET    : \", len(y_train)+len(y_test))"
   ]
  },
  {
   "cell_type": "code",
   "execution_count": 14,
   "id": "1fa5db0a",
   "metadata": {},
   "outputs": [],
   "source": [
    "# Implement Adaboost classifier algorithm learning patterns\n",
    "from sklearn.svm import SVC"
   ]
  },
  {
   "cell_type": "code",
   "execution_count": 15,
   "id": "13c940ce",
   "metadata": {},
   "outputs": [
    {
     "data": {
      "text/html": [
       "<style>#sk-container-id-1 {color: black;background-color: white;}#sk-container-id-1 pre{padding: 0;}#sk-container-id-1 div.sk-toggleable {background-color: white;}#sk-container-id-1 label.sk-toggleable__label {cursor: pointer;display: block;width: 100%;margin-bottom: 0;padding: 0.3em;box-sizing: border-box;text-align: center;}#sk-container-id-1 label.sk-toggleable__label-arrow:before {content: \"▸\";float: left;margin-right: 0.25em;color: #696969;}#sk-container-id-1 label.sk-toggleable__label-arrow:hover:before {color: black;}#sk-container-id-1 div.sk-estimator:hover label.sk-toggleable__label-arrow:before {color: black;}#sk-container-id-1 div.sk-toggleable__content {max-height: 0;max-width: 0;overflow: hidden;text-align: left;background-color: #f0f8ff;}#sk-container-id-1 div.sk-toggleable__content pre {margin: 0.2em;color: black;border-radius: 0.25em;background-color: #f0f8ff;}#sk-container-id-1 input.sk-toggleable__control:checked~div.sk-toggleable__content {max-height: 200px;max-width: 100%;overflow: auto;}#sk-container-id-1 input.sk-toggleable__control:checked~label.sk-toggleable__label-arrow:before {content: \"▾\";}#sk-container-id-1 div.sk-estimator input.sk-toggleable__control:checked~label.sk-toggleable__label {background-color: #d4ebff;}#sk-container-id-1 div.sk-label input.sk-toggleable__control:checked~label.sk-toggleable__label {background-color: #d4ebff;}#sk-container-id-1 input.sk-hidden--visually {border: 0;clip: rect(1px 1px 1px 1px);clip: rect(1px, 1px, 1px, 1px);height: 1px;margin: -1px;overflow: hidden;padding: 0;position: absolute;width: 1px;}#sk-container-id-1 div.sk-estimator {font-family: monospace;background-color: #f0f8ff;border: 1px dotted black;border-radius: 0.25em;box-sizing: border-box;margin-bottom: 0.5em;}#sk-container-id-1 div.sk-estimator:hover {background-color: #d4ebff;}#sk-container-id-1 div.sk-parallel-item::after {content: \"\";width: 100%;border-bottom: 1px solid gray;flex-grow: 1;}#sk-container-id-1 div.sk-label:hover label.sk-toggleable__label {background-color: #d4ebff;}#sk-container-id-1 div.sk-serial::before {content: \"\";position: absolute;border-left: 1px solid gray;box-sizing: border-box;top: 0;bottom: 0;left: 50%;z-index: 0;}#sk-container-id-1 div.sk-serial {display: flex;flex-direction: column;align-items: center;background-color: white;padding-right: 0.2em;padding-left: 0.2em;position: relative;}#sk-container-id-1 div.sk-item {position: relative;z-index: 1;}#sk-container-id-1 div.sk-parallel {display: flex;align-items: stretch;justify-content: center;background-color: white;position: relative;}#sk-container-id-1 div.sk-item::before, #sk-container-id-1 div.sk-parallel-item::before {content: \"\";position: absolute;border-left: 1px solid gray;box-sizing: border-box;top: 0;bottom: 0;left: 50%;z-index: -1;}#sk-container-id-1 div.sk-parallel-item {display: flex;flex-direction: column;z-index: 1;position: relative;background-color: white;}#sk-container-id-1 div.sk-parallel-item:first-child::after {align-self: flex-end;width: 50%;}#sk-container-id-1 div.sk-parallel-item:last-child::after {align-self: flex-start;width: 50%;}#sk-container-id-1 div.sk-parallel-item:only-child::after {width: 0;}#sk-container-id-1 div.sk-dashed-wrapped {border: 1px dashed gray;margin: 0 0.4em 0.5em 0.4em;box-sizing: border-box;padding-bottom: 0.4em;background-color: white;}#sk-container-id-1 div.sk-label label {font-family: monospace;font-weight: bold;display: inline-block;line-height: 1.2em;}#sk-container-id-1 div.sk-label-container {text-align: center;}#sk-container-id-1 div.sk-container {/* jupyter's `normalize.less` sets `[hidden] { display: none; }` but bootstrap.min.css set `[hidden] { display: none !important; }` so we also need the `!important` here to be able to override the default hidden behavior on the sphinx rendered scikit-learn.org. See: https://github.com/scikit-learn/scikit-learn/issues/21755 */display: inline-block !important;position: relative;}#sk-container-id-1 div.sk-text-repr-fallback {display: none;}</style><div id=\"sk-container-id-1\" class=\"sk-top-container\"><div class=\"sk-text-repr-fallback\"><pre>SVC()</pre><b>In a Jupyter environment, please rerun this cell to show the HTML representation or trust the notebook. <br />On GitHub, the HTML representation is unable to render, please try loading this page with nbviewer.org.</b></div><div class=\"sk-container\" hidden><div class=\"sk-item\"><div class=\"sk-estimator sk-toggleable\"><input class=\"sk-toggleable__control sk-hidden--visually\" id=\"sk-estimator-id-1\" type=\"checkbox\" checked><label for=\"sk-estimator-id-1\" class=\"sk-toggleable__label sk-toggleable__label-arrow\">SVC</label><div class=\"sk-toggleable__content\"><pre>SVC()</pre></div></div></div></div></div>"
      ],
      "text/plain": [
       "SVC()"
      ]
     },
     "execution_count": 15,
     "metadata": {},
     "output_type": "execute_result"
    }
   ],
   "source": [
    "ABC = SVC()\n",
    "# Fit is the training function for this algorithm.\n",
    "ABC.fit(x_train,y_train)"
   ]
  },
  {
   "cell_type": "code",
   "execution_count": 16,
   "id": "4a749cc7",
   "metadata": {},
   "outputs": [],
   "source": [
    "# Predict is the test function for this algorithm\n",
    "predicted = ABC.predict(x_test)"
   ]
  },
  {
   "cell_type": "code",
   "execution_count": 17,
   "id": "c3cd8937",
   "metadata": {},
   "outputs": [
    {
     "name": "stdout",
     "output_type": "stream",
     "text": [
      "THE CLASSIFICATION REPORT OF ExtraTreesClassifier:\n",
      "\n",
      "               precision    recall  f1-score   support\n",
      "\n",
      "         0.0       0.00      0.00      0.00       106\n",
      "         1.0       0.57      0.81      0.67       106\n",
      "         2.0       0.49      0.77      0.60       106\n",
      "\n",
      "    accuracy                           0.53       318\n",
      "   macro avg       0.35      0.53      0.42       318\n",
      "weighted avg       0.35      0.53      0.42       318\n",
      "\n"
     ]
    }
   ],
   "source": [
    "# Check classification report for this algorithm\n",
    "from sklearn.metrics import classification_report\n",
    "cr = classification_report(y_test,predicted)\n",
    "print('THE CLASSIFICATION REPORT OF ExtraTreesClassifier:\\n\\n',cr)"
   ]
  },
  {
   "cell_type": "code",
   "execution_count": 18,
   "id": "d59ff467",
   "metadata": {},
   "outputs": [
    {
     "name": "stdout",
     "output_type": "stream",
     "text": [
      "THE CONFUSION MATRIX SCORE OF SVC:\n",
      "\n",
      "\n",
      " [[ 0 40 66]\n",
      " [ 0 86 20]\n",
      " [ 0 24 82]]\n"
     ]
    }
   ],
   "source": [
    "# Check the confusion matrix for this algorithms.\n",
    "from sklearn.metrics import confusion_matrix\n",
    "cm = confusion_matrix(y_test,predicted)\n",
    "print('THE CONFUSION MATRIX SCORE OF SVC:\\n\\n\\n',cm)"
   ]
  },
  {
   "cell_type": "code",
   "execution_count": 19,
   "id": "75ea4ac8",
   "metadata": {},
   "outputs": [
    {
     "name": "stdout",
     "output_type": "stream",
     "text": [
      "THE CROSS VALIDATION TEST RESULT OF ACCURACY :\n",
      "\n",
      "\n",
      " [51.25786164 50.         53.94321767 50.78864353 54.88958991]\n"
     ]
    }
   ],
   "source": [
    "# Check the cross value score of this algorithm.\n",
    "from sklearn.model_selection import cross_val_score\n",
    "accuracy = cross_val_score(ABC, x, y, scoring='accuracy')\n",
    "print('THE CROSS VALIDATION TEST RESULT OF ACCURACY :\\n\\n\\n', accuracy*100)"
   ]
  },
  {
   "cell_type": "code",
   "execution_count": 20,
   "id": "69ff65f6",
   "metadata": {},
   "outputs": [
    {
     "name": "stdout",
     "output_type": "stream",
     "text": [
      "THE ACCURACY SCORE OF SVC IS : 52.83018867924528\n"
     ]
    }
   ],
   "source": [
    "# Check the accuracy score of this algorithms.\n",
    "from sklearn.metrics import accuracy_score\n",
    "a = accuracy_score(y_test,predicted)\n",
    "print(\"THE ACCURACY SCORE OF SVC IS :\",a*100)"
   ]
  },
  {
   "cell_type": "code",
   "execution_count": 21,
   "id": "15d9d0f0",
   "metadata": {},
   "outputs": [
    {
     "name": "stdout",
     "output_type": "stream",
     "text": [
      "THE HAMMING LOSS OF SVC IS : 47.16981132075472\n"
     ]
    }
   ],
   "source": [
    "# Check the hamming loss of this algorithm.\n",
    "from sklearn.metrics import hamming_loss\n",
    "hl = hamming_loss(y_test,predicted)\n",
    "print(\"THE HAMMING LOSS OF SVC IS :\",hl*100)"
   ]
  },
  {
   "cell_type": "code",
   "execution_count": 22,
   "id": "140e5feb",
   "metadata": {
    "scrolled": true
   },
   "outputs": [
    {
     "name": "stdout",
     "output_type": "stream",
     "text": [
      "THE CONFUSION MATRIX SCORE OF SVC:\n",
      "\n",
      "\n",
      "[[ 0 40 66]\n",
      " [ 0 86 20]\n",
      " [ 0 24 82]]\n"
     ]
    },
    {
     "data": {
      "image/png": "[encoded data removed]",
      "text/plain": [
       "<Figure size 640x480 with 2 Axes>"
      ]
     },
     "metadata": {},
     "output_type": "display_data"
    }
   ],
   "source": [
    "# Plot a Confusion matrix for this algorithms.\n",
    "def plot_confusion_matrix(cm, title='THE CONFUSION MATRIX SCORE OF SVC\\n\\n', cmap=plt.cm.cool):\n",
    "    plt.imshow(cm, interpolation='nearest', cmap=cmap)\n",
    "    plt.title(title)\n",
    "    plt.colorbar()\n",
    "\n",
    "cm1=confusion_matrix(y_test, predicted)\n",
    "print('THE CONFUSION MATRIX SCORE OF SVC:\\n\\n')\n",
    "print(cm)\n",
    "plot_confusion_matrix(cm)"
   ]
  },
  {
   "cell_type": "code",
   "execution_count": 23,
   "id": "ee5774eb",
   "metadata": {},
   "outputs": [
    {
     "data": {
      "image/png": "[encoded data removed]",
      "text/plain": [
       "<Figure size 500x500 with 1 Axes>"
      ]
     },
     "metadata": {},
     "output_type": "display_data"
    }
   ],
   "source": [
    "def graph():\n",
    "    import matplotlib.pyplot as plt\n",
    "    data=[a]\n",
    "    alg=\"RANDOM FOREST CLASSIFIER\"\n",
    "    plt.figure(figsize=(5,5))\n",
    "    b=plt.bar(alg,data,color=(\"red\"))\n",
    "    plt.title(\"THE ACCURACY SCORE OF RANDOM FOREST CLASSIFIER IS\\n\\n\\n\")\n",
    "    plt.legend(b,data,fontsize=9)\n",
    "graph()"
   ]
  },
  {
   "cell_type": "code",
   "execution_count": null,
   "id": "004bf77e",
   "metadata": {},
   "outputs": [],
   "source": []
  }
 ],
 "metadata": {
  "kernelspec": {
   "display_name": "Python 3 (ipykernel)",
   "language": "python",
   "name": "python3"
  },
  "language_info": {
   "codemirror_mode": {
    "name": "ipython",
    "version": 3
   },
   "file_extension": ".py",
   "mimetype": "text/x-python",
   "name": "python",
   "nbconvert_exporter": "python",
   "pygments_lexer": "ipython3",
   "version": "3.9.18"
  }
 },
 "nbformat": 4,
 "nbformat_minor": 5
}
